{
 "cells": [
  {
   "cell_type": "markdown",
   "metadata": {},
   "source": [
    "<center>\n",
    "    <img src=\"https://cf-courses-data.s3.us.cloud-object-storage.appdomain.cloud/IBMDeveloperSkillsNetwork-DS0105EN-SkillsNetwork/labs/Module2/images/SN_web_lightmode.png\" width=\"300\" alt=\"cognitiveclass.ai logo\"  />\n",
    "</center>\n"
   ]
  },
  {
   "cell_type": "markdown",
   "metadata": {},
   "source": [
    "#### Add your code below following the instructions given in the course\n"
   ]
  },
  {
   "cell_type": "markdown",
   "metadata": {},
   "source": [
    "# My Jupyter Notebook on IBM Watson Studio"
   ]
  },
  {
   "cell_type": "markdown",
   "metadata": {},
   "source": [
    "## __Belkis Ceri__\n",
    "Data Analyst"
   ]
  },
  {
   "cell_type": "markdown",
   "metadata": {},
   "source": [
    "_I am interested in data science because I like working with data ans create meaningful stories from them. I believe that I can find effective solution to our daily life problems if I can understand the data and data analysis well._"
   ]
  },
  {
   "cell_type": "markdown",
   "metadata": {
    "tags": []
   },
   "source": [
    "### My code below will calculate the differences between variable1 and variable2"
   ]
  },
  {
   "cell_type": "code",
   "execution_count": 3,
   "metadata": {},
   "outputs": [
    {
     "name": "stdout",
     "output_type": "stream",
     "text": [
      "9\n"
     ]
    }
   ],
   "source": [
    "variable1 = 12\n",
    "variable2 = 3\n",
    "differences= variable1 - variable2\n",
    "print(differences)"
   ]
  },
  {
   "cell_type": "markdown",
   "metadata": {},
   "source": [
    "***\n",
    "\n",
    "1. Data science related fields\n",
    "\n",
    "|id | fields name | rate |\n",
    "| :- | -: | :-: |\n",
    "| 01 | Data Analysis | 4/5 |\n",
    "| 02 | Machine Learning | 4.5/5 |\n",
    "| 02 | Artificial intelligence | 3/5 |\n",
    "\n",
    "- Computer Engineering related fields\n",
    "\n",
    "|id | fields name | rate |\n",
    "| :- | -: | :-: |\n",
    "| 01 | Software Engineering ring  | 4/5 |\n",
    "| 02 | Android Developer | 4.5/5 |\n",
    "| 02 | Full stack Engineer | 3/5 |\n",
    "\n",
    "a. __[Python website](https://www.python.org/__\n",
    "\n",
    "<img src=\"data:image/jpeg;base64,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\" alt=\"Alt text that describes the graphic\" title=\"Title text\" />\n",
    "\n",
    "\n",
    "\n",
    "\n",
    "'''\n",
    "This is a print function\n",
    "'''\n",
    "\n",
    "\n",
    "```python\n",
    ">>>print('hello') \n",
    "```\n",
    "\n",
    "highlight_selected_word.highlight_color\n",
    "\n",
    "> True peace is not merely the absence of tension; it is the presence of justice. **Martin Luther King**\n",
    "\n",
    "\n",
    "--This is an strikethrough "
   ]
  },
  {
   "cell_type": "code",
   "execution_count": null,
   "metadata": {},
   "outputs": [],
   "source": []
  }
 ],
 "metadata": {
  "kernelspec": {
   "display_name": "Python",
   "language": "python",
   "name": "conda-env-python-py"
  },
  "language_info": {
   "codemirror_mode": {
    "name": "ipython",
    "version": 3
   },
   "file_extension": ".py",
   "mimetype": "text/x-python",
   "name": "python",
   "nbconvert_exporter": "python",
   "pygments_lexer": "ipython3",
   "version": "3.7.12"
  }
 },
 "nbformat": 4,
 "nbformat_minor": 4
}
